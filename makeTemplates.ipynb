{
 "cells": [
  {
   "cell_type": "code",
   "execution_count": 4,
   "id": "8cab00c2",
   "metadata": {
    "ExecuteTime": {
     "end_time": "2021-12-20T12:25:00.636787Z",
     "start_time": "2021-12-20T12:25:00.623797Z"
    }
   },
   "outputs": [],
   "source": [
    "DATADIR = \"dataset/\"\n",
    "import pandas as pd\n",
    "import numpy as np\n",
    "import matplotlib.pyplot as plt\n",
    "import seaborn as sns\n",
    "import warnings\n",
    "%matplotlib inline\n",
    "warnings.filterwarnings('ignore')"
   ]
  },
  {
   "cell_type": "code",
   "execution_count": 5,
   "id": "362e77a5",
   "metadata": {
    "ExecuteTime": {
     "end_time": "2021-12-20T12:25:00.889203Z",
     "start_time": "2021-12-20T12:25:00.856611Z"
    }
   },
   "outputs": [],
   "source": [
    "df_imputed = pd.read_csv(DATADIR+\"perfect_base.csv\")"
   ]
  },
  {
   "cell_type": "code",
   "execution_count": 6,
   "id": "32148c4d",
   "metadata": {
    "ExecuteTime": {
     "end_time": "2021-12-20T12:25:01.094325Z",
     "start_time": "2021-12-20T12:25:01.080412Z"
    }
   },
   "outputs": [],
   "source": [
    "q34 = pd.read_csv(DATADIR+\"Question34.csv\")"
   ]
  },
  {
   "cell_type": "code",
   "execution_count": 7,
   "id": "c63df8bb",
   "metadata": {
    "ExecuteTime": {
     "end_time": "2021-12-20T12:25:01.331974Z",
     "start_time": "2021-12-20T12:25:01.320062Z"
    }
   },
   "outputs": [],
   "source": [
    "q34[\"Q\"] = q34[\"Question\"].apply(lambda x : x.replace(\"\\n\",\"\"))"
   ]
  },
  {
   "cell_type": "code",
   "execution_count": 8,
   "id": "edabdda0",
   "metadata": {
    "ExecuteTime": {
     "end_time": "2021-12-20T12:25:01.693344Z",
     "start_time": "2021-12-20T12:25:01.680347Z"
    }
   },
   "outputs": [],
   "source": [
    "base_cols = pd.read_csv(DATADIR+\"base_colnames.csv\")\n",
    "lifestyle_cols = base_cols[base_cols[\"class\"]==\"생활습관\"][\"colnames\"]\n",
    "female_cols = base_cols[base_cols[\"class\"]==\"여성력\"][\"colnames\"]\n",
    "history_cols = base_cols[base_cols[\"class\"]==\"과거력\"][\"colnames\"]\n",
    "family_cols = base_cols[base_cols[\"class\"]==\"가족력\"][\"colnames\"]\n",
    "start_cols = base_cols[(base_cols[\"class\"]==\"기본정보\") | (base_cols[\"class\"]==\"일반정보\")][\"colnames\"]\n",
    "used_cols = pd.Series([\"T_HEIGHT\", \"T_WEIGHT\",\"T_BMI\"])\n",
    "target_cols = pd.Series([\"T_DM\",\"T_GLU0\"])"
   ]
  },
  {
   "cell_type": "code",
   "execution_count": 9,
   "id": "da2888b1",
   "metadata": {
    "ExecuteTime": {
     "end_time": "2021-12-20T12:25:02.117867Z",
     "start_time": "2021-12-20T12:25:02.103640Z"
    }
   },
   "outputs": [
    {
     "data": {
      "text/plain": [
       "Index(['T_AGE', 'T_INCOME', 'T_MARRY', 'T_HEIGHT', 'T_WEIGHT', 'T_BMI', 'T_DM',\n",
       "       'T_GLU0', 'T_DRINK', 'T_DRDU', 'T_TAKFQ', 'T_TAKAM', 'T_RICEFQ',\n",
       "       'T_RICEAM', 'T_WINEFQ', 'T_WINEAM', 'T_SOJUFQ', 'T_SOJUAM', 'T_BEERFQ',\n",
       "       'T_BEERAM', 'T_HLIQFQ', 'T_HLIQAM', 'T_SMOKE', 'T_SMDUYR', 'T_SMDUMO',\n",
       "       'T_SMAM', 'T_PSM', 'T_EXER'],\n",
       "      dtype='object')"
      ]
     },
     "execution_count": 9,
     "metadata": {},
     "output_type": "execute_result"
    }
   ],
   "source": [
    "df_imputed.columns"
   ]
  },
  {
   "cell_type": "code",
   "execution_count": 10,
   "id": "571e6d34",
   "metadata": {
    "ExecuteTime": {
     "end_time": "2021-12-20T12:25:02.511450Z",
     "start_time": "2021-12-20T12:25:02.504443Z"
    }
   },
   "outputs": [
    {
     "data": {
      "text/plain": [
       "30"
      ]
     },
     "execution_count": 10,
     "metadata": {},
     "output_type": "execute_result"
    }
   ],
   "source": [
    "start_cols = start_cols.append([used_cols,target_cols,lifestyle_cols]).reset_index(drop=True)\n",
    "start_cols.drop(index = [0,1],inplace=True) # \"T_ID\", \"T_DATA_CLASS\" drop\n",
    "len(start_cols)"
   ]
  },
  {
   "cell_type": "code",
   "execution_count": 11,
   "id": "45287c36",
   "metadata": {
    "ExecuteTime": {
     "end_time": "2021-12-20T12:25:04.619345Z",
     "start_time": "2021-12-20T12:25:04.600303Z"
    }
   },
   "outputs": [],
   "source": [
    "normial_cols = base_cols[base_cols[\"ordinalTrue\"]==\"0\"][\"colnames\"]\n",
    "ordinal_cols = base_cols[base_cols[\"ordinalTrue\"]==\"1\"][\"colnames\"]"
   ]
  },
  {
   "cell_type": "code",
   "execution_count": 12,
   "id": "bd220454",
   "metadata": {
    "ExecuteTime": {
     "end_time": "2021-12-20T12:25:05.107450Z",
     "start_time": "2021-12-20T12:25:05.096531Z"
    }
   },
   "outputs": [],
   "source": [
    "df_imputed.drop(columns = \"T_DM\", inplace=True)\n",
    "df_imputed.drop(columns = \"T_GLU0\", inplace=True)"
   ]
  },
  {
   "cell_type": "code",
   "execution_count": 13,
   "id": "7f8c2cc7",
   "metadata": {
    "ExecuteTime": {
     "end_time": "2021-12-20T12:25:05.626744Z",
     "start_time": "2021-12-20T12:25:05.609313Z"
    }
   },
   "outputs": [
    {
     "name": "stdout",
     "output_type": "stream",
     "text": [
      "10\n",
      "3\n",
      "10\n"
     ]
    }
   ],
   "source": [
    "ordial_list = []\n",
    "cnt = 0\n",
    "for col in ordinal_cols:\n",
    "    if col in q34[\"varname\"].to_list():\n",
    "        if col in df_imputed:\n",
    "            cnt +=1\n",
    "            ordial_list.append(col)\n",
    "print(cnt)\n",
    "\n",
    "\n",
    "cnt = 0\n",
    "normial_list = []\n",
    "for col in normial_cols:\n",
    "    if col in q34[\"varname\"].to_list():\n",
    "        if col in df_imputed:\n",
    "            cnt +=1\n",
    "            normial_list.append(col)\n",
    "print(cnt)\n",
    "\n",
    "cnt = 0\n",
    "cont_list = []\n",
    "for col in base_cols[base_cols[\"coltype\"]==\"연속형\"][\"colnames\"]:\n",
    "    if col in q34[\"varname\"].to_list():\n",
    "        if col in df_imputed:\n",
    "            cnt +=1\n",
    "            cont_list.append(col)\n",
    "\n",
    "print(cnt)"
   ]
  },
  {
   "cell_type": "code",
   "execution_count": 14,
   "id": "96656aa4",
   "metadata": {
    "ExecuteTime": {
     "end_time": "2021-12-20T12:25:06.587635Z",
     "start_time": "2021-12-20T12:25:06.569614Z"
    }
   },
   "outputs": [
    {
     "name": "stdout",
     "output_type": "stream",
     "text": [
      "T_HEIGHT\n",
      "T_WEIGHT\n",
      "T_BMI\n"
     ]
    }
   ],
   "source": [
    "for col in df_imputed:\n",
    "    if col not in ordial_list:\n",
    "        if col not in cont_list:\n",
    "            if col not in normial_list:\n",
    "                print(col)\n",
    "                cont_list.append(col)"
   ]
  },
  {
   "cell_type": "code",
   "execution_count": 15,
   "id": "0c565998",
   "metadata": {
    "ExecuteTime": {
     "end_time": "2021-12-20T12:25:08.899968Z",
     "start_time": "2021-12-20T12:25:08.888796Z"
    }
   },
   "outputs": [
    {
     "data": {
      "text/plain": [
       "((10000, 26), 26)"
      ]
     },
     "execution_count": 15,
     "metadata": {},
     "output_type": "execute_result"
    }
   ],
   "source": [
    "df_imputed.shape, len(ordial_list) + len(cont_list) + len(normial_list)"
   ]
  },
  {
   "cell_type": "code",
   "execution_count": 16,
   "id": "6d2958fc",
   "metadata": {
    "ExecuteTime": {
     "end_time": "2021-12-20T12:25:09.944425Z",
     "start_time": "2021-12-20T12:25:09.937420Z"
    }
   },
   "outputs": [
    {
     "data": {
      "text/plain": [
       "['T_AGE',\n",
       " 'T_TAKAM',\n",
       " 'T_RICEAM',\n",
       " 'T_WINEAM',\n",
       " 'T_SOJUAM',\n",
       " 'T_BEERAM',\n",
       " 'T_HLIQAM',\n",
       " 'T_SMDUYR',\n",
       " 'T_SMDUMO',\n",
       " 'T_SMAM',\n",
       " 'T_HEIGHT',\n",
       " 'T_WEIGHT',\n",
       " 'T_BMI']"
      ]
     },
     "execution_count": 16,
     "metadata": {},
     "output_type": "execute_result"
    }
   ],
   "source": [
    "cont_list"
   ]
  },
  {
   "cell_type": "code",
   "execution_count": 43,
   "id": "65704125",
   "metadata": {
    "ExecuteTime": {
     "end_time": "2021-12-20T13:09:21.360243Z",
     "start_time": "2021-12-20T13:09:21.350297Z"
    }
   },
   "outputs": [
    {
     "data": {
      "text/plain": [
       "16"
      ]
     },
     "execution_count": 43,
     "metadata": {},
     "output_type": "execute_result"
    }
   ],
   "source": [
    "len(normial_list+cont_list)"
   ]
  },
  {
   "cell_type": "code",
   "execution_count": 50,
   "id": "2b224a1d",
   "metadata": {
    "ExecuteTime": {
     "end_time": "2021-12-20T13:22:43.208052Z",
     "start_time": "2021-12-20T13:22:43.182180Z"
    }
   },
   "outputs": [
    {
     "name": "stdout",
     "output_type": "stream",
     "text": [
      "<label for=\"T_AGE\"> ■ 만 나이    만 ________ 세 :  </label>\n",
      "<br>\n",
      "<input type=text name=\"T_AGE\" placeholder=\"T_AGE\" required='required'>\n",
      "<br>\n",
      "<label for=\"T_INCOME\"> ■ 귀하 가정의 월  평균 수입은 어느 정도 되십니까?   □1 50만원 미만   □2 50-100만원미만    □3 100-150만원 미만   □4 150-200만원 미만    □5 200-300만원 미만   □6 300-400만원 미만   □7 400-600만원 미만    □8 600만원 이상 :  </label>\n",
      "<br>\n",
      "<select id=\"T_INCOME\" name=\"T_INCOME\" placeholder=\"T_INCOME\", required='required'>\n",
      "<option value=\"1\">1</option>\n",
      "<option value=\"2\">2</option>\n",
      "<option value=\"3\">3</option>\n",
      "<option value=\"4\">4</option>\n",
      "<option value=\"5\">5</option>\n",
      "<option value=\"6\">6</option>\n",
      "<option value=\"7\">7</option>\n",
      "<option value=\"8\">8</option>\n",
      "</select>\n",
      "<br>\n",
      "<label for=\"T_MARRY\"> ■ 귀하의 현재 결혼 상태는 어떠하십니까?   □1 미혼   □2 기혼   □3 별거   □4 이혼   □5 사별   □6 기타 :  </label>\n",
      "<br>\n",
      "<select id=\"T_MARRY\" name=\"T_MARRY\" placeholder=\"T_MARRY\", required='required'>\n",
      "<option value=\"1\">1</option>\n",
      "<option value=\"2\">2</option>\n",
      "<option value=\"3\">3</option>\n",
      "<option value=\"4\">4</option>\n",
      "<option value=\"5\">5</option>\n",
      "<option value=\"6\">6</option>\n",
      "</select>\n",
      "<br>\n",
      "<label for=\"T_DRINK\"> ■ 귀하는 원래 술을 못 마시거나 또는 처음부터(종교적인 이유 등으로) 술을 안 마십니까?   □1 예(비음주)   □2 아니오(과거음주)   □3 아니오(현재음주) :  </label>\n",
      "<br>\n",
      "<select id=\"T_DRINK\" name=\"T_DRINK\" placeholder=\"T_DRINK\", required='required'>\n",
      "<option value=\"1\">1</option>\n",
      "<option value=\"2\">2</option>\n",
      "<option value=\"3\">3</option>\n",
      "</select>\n",
      "<br>\n",
      "<label for=\"T_DRDU\"> ■ 귀하는 원래 술을 못 마시거나 또는 처음부터(종교적인 이유 등으로) 술을 안 마십니까?   □1 예. 술을 안 마십니다   □2 아니오(과거음주)   □3 아니오(현재음주)       ▶ 지금까지 총 몇 년간 드셨습니까?          ① 5년 이하          ② 6-10년          ③ 11-20년            ④ 21년 이상 :  </label>\n",
      "<br>\n",
      "<select id=\"T_DRDU\" name=\"T_DRDU\" placeholder=\"T_DRDU\", required='required'>\n",
      "<option value=\"1\">1</option>\n",
      "<option value=\"2\">2</option>\n",
      "<option value=\"3\">3</option>\n",
      "<option value=\"4\">4</option>\n",
      "</select>\n",
      "<br>\n",
      "<label for=\"T_TAKFQ\">        ▶ 지난 1년 주류별 음주 횟수 및 총량          1-a) 막걸리를 1년 동안 드신 평균횟수는?               ⓪ 없다               ① 월 1회               ② 월 2-3회               ③ 주 1회               ④ 주 2-3회               ⑤ 주 4-6회               ⑥ 매일 1회 이상 :  </label>\n",
      "<br>\n",
      "<select id=\"T_TAKFQ\" name=\"T_TAKFQ\" placeholder=\"T_TAKFQ\", required='required'>\n",
      "<option value=\"1\">1</option>\n",
      "<option value=\"2\">2</option>\n",
      "<option value=\"3\">3</option>\n",
      "<option value=\"4\">4</option>\n",
      "<option value=\"5\">5</option>\n",
      "<option value=\"6\">6</option>\n",
      "</select>\n",
      "<br>\n",
      "<label for=\"T_TAKAM\">                ▷ 막걸리를 한 번 드실 때의 평균총량은?                  ________ 막걸리잔(240cc)                  ※ 막걸리 1되 = 7잔, 1잔 당 240cc 기준임. :  </label>\n",
      "<br>\n",
      "<input type=text name=\"T_TAKAM\" placeholder=\"T_TAKAM\" required='required'>\n",
      "<br>\n",
      "<label for=\"T_RICEFQ\">           2-a) 정종을 1년 동안 드신 평균횟수는?               ⓪ 없다               ① 월 1회               ② 월 2-3회               ③ 주 1회               ④ 주 2-3회               ⑤ 주 4-6회               ⑥ 매일 1회 이상 :  </label>\n",
      "<br>\n",
      "<select id=\"T_RICEFQ\" name=\"T_RICEFQ\" placeholder=\"T_RICEFQ\", required='required'>\n",
      "<option value=\"1\">1</option>\n",
      "<option value=\"2\">2</option>\n",
      "<option value=\"3\">3</option>\n",
      "<option value=\"4\">4</option>\n",
      "<option value=\"5\">5</option>\n",
      "<option value=\"6\">6</option>\n",
      "</select>\n",
      "<br>\n",
      "<label for=\"T_RICEAM\">                ▷ 정종을 한 번 드실 때의 평균총량은?                  ________ 소주잔(50cc)                  ※ 소주잔 1잔 당 50cc 기준임. :  </label>\n",
      "<br>\n",
      "<input type=text name=\"T_RICEAM\" placeholder=\"T_RICEAM\" required='required'>\n",
      "<br>\n",
      "<label for=\"T_WINEFQ\">           3-a) 포도주를 1년 동안 드신 평균횟수는?               ⓪ 없다               ① 월 1회               ② 월 2-3회               ③ 주 1회               ④ 주 2-3회               ⑤ 주 4-6회               ⑥ 매일 1회 이상 :  </label>\n",
      "<br>\n",
      "<select id=\"T_WINEFQ\" name=\"T_WINEFQ\" placeholder=\"T_WINEFQ\", required='required'>\n",
      "<option value=\"1\">1</option>\n",
      "<option value=\"2\">2</option>\n",
      "<option value=\"3\">3</option>\n",
      "<option value=\"4\">4</option>\n",
      "<option value=\"5\">5</option>\n",
      "<option value=\"6\">6</option>\n",
      "</select>\n",
      "<br>\n",
      "<label for=\"T_WINEAM\">                ▷ 포도주를 한 번 드실 때의 평균총량은?                  ________ 포도주잔(90cc)                  ※ 와인 1병 = 8잔, 1잔 당 90cc 기준임.  :  </label>\n",
      "<br>\n",
      "<input type=text name=\"T_WINEAM\" placeholder=\"T_WINEAM\" required='required'>\n",
      "<br>\n",
      "<label for=\"T_SOJUFQ\">           4-a) 소주를 1년 동안 드신 평균횟수는?               ⓪ 없다               ① 월 1회               ② 월 2-3회               ③ 주 1회               ④ 주 2-3회               ⑤ 주 4-6회               ⑥ 매일 1회 이상 :  </label>\n",
      "<br>\n",
      "<select id=\"T_SOJUFQ\" name=\"T_SOJUFQ\" placeholder=\"T_SOJUFQ\", required='required'>\n",
      "<option value=\"1\">1</option>\n",
      "<option value=\"2\">2</option>\n",
      "<option value=\"3\">3</option>\n",
      "<option value=\"4\">4</option>\n",
      "<option value=\"5\">5</option>\n",
      "<option value=\"6\">6</option>\n",
      "</select>\n",
      "<br>\n",
      "<label for=\"T_SOJUAM\">                ▷ 소주를 한 번 드실 때의 평균총량은?                  ________ 소주잔(50cc)                  ※ 소주 1병 = 6.5잔, 1잔 당 50cc 기준임. :  </label>\n",
      "<br>\n",
      "<input type=text name=\"T_SOJUAM\" placeholder=\"T_SOJUAM\" required='required'>\n",
      "<br>\n",
      "<label for=\"T_BEERFQ\">           5-a) 맥주를 1년 동안 드신 평균횟수는?               ⓪ 없다               ① 월 1회               ② 월 2-3회               ③ 주 1회               ④ 주 2-3회               ⑤ 주 4-6회               ⑥ 매일 1회 이상 :  </label>\n",
      "<br>\n",
      "<select id=\"T_BEERFQ\" name=\"T_BEERFQ\" placeholder=\"T_BEERFQ\", required='required'>\n",
      "<option value=\"1\">1</option>\n",
      "<option value=\"2\">2</option>\n",
      "<option value=\"3\">3</option>\n",
      "<option value=\"4\">4</option>\n",
      "<option value=\"5\">5</option>\n",
      "<option value=\"6\">6</option>\n",
      "</select>\n",
      "<br>\n",
      "<label for=\"T_BEERAM\">                ▷ 맥주를 한 번 드실 때의 평균총량은?                  ________ 맥주잔(220cc)                  ※ 맥주 1병 = 2.5잔, 1잔 당 220cc 기준임. :  </label>\n",
      "<br>\n",
      "<input type=text name=\"T_BEERAM\" placeholder=\"T_BEERAM\" required='required'>\n",
      "<br>\n",
      "<label for=\"T_HLIQFQ\">           6-a) 양주를 1년 동안 드신 평균횟수는?               ⓪ 없다               ① 월 1회               ② 월 2-3회               ③ 주 1회               ④ 주 2-3회               ⑤ 주 4-6회               ⑥ 매일 1회 이상 :  </label>\n",
      "<br>\n",
      "<select id=\"T_HLIQFQ\" name=\"T_HLIQFQ\" placeholder=\"T_HLIQFQ\", required='required'>\n",
      "<option value=\"1\">1</option>\n",
      "<option value=\"2\">2</option>\n",
      "<option value=\"3\">3</option>\n",
      "<option value=\"4\">4</option>\n",
      "<option value=\"5\">5</option>\n",
      "<option value=\"6\">6</option>\n",
      "</select>\n",
      "<br>\n",
      "<label for=\"T_HLIQAM\">                ▷ 양주를 한 번 드실 때의 평균총량은?                  ________ 양주잔(30cc)                  ※ 양주 1병 = 23잔, 1잔 당 30cc 기준임. :  </label>\n",
      "<br>\n",
      "<input type=text name=\"T_HLIQAM\" placeholder=\"T_HLIQAM\" required='required'>\n",
      "<br>\n",
      "<label for=\"T_SMOKE\"> ■ 귀하는 지금까지 담배를 피운 적이 있습니까?   □1 아니오   □2 예(과거흡연)   □3 예(현재흡연) :  </label>\n",
      "<br>\n",
      "<select id=\"T_SMOKE\" name=\"T_SMOKE\" placeholder=\"T_SMOKE\", required='required'>\n",
      "<option value=\"1\">1</option>\n",
      "<option value=\"2\">2</option>\n",
      "<option value=\"3\">3</option>\n",
      "</select>\n",
      "<br>\n",
      "<label for=\"T_SMDUYR\">        2) 지금까지 피우신 총 기간은?          총 ________ 년________ 개월 :  </label>\n",
      "<br>\n",
      "<input type=text name=\"T_SMDUYR\" placeholder=\"T_SMDUYR\" required='required'>\n",
      "<br>\n",
      "<label for=\"T_SMDUMO\">           지금까지 피우신 총 기간은?          총 ________ 년________ 개월 :  </label>\n",
      "<br>\n",
      "<input type=text name=\"T_SMDUMO\" placeholder=\"T_SMDUMO\" required='required'>\n",
      "<br>\n",
      "<label for=\"T_SMAM\">        3) 하루에 대략 피우신 양은 얼마 정도입니까?          약 ________ 개비 :  </label>\n",
      "<br>\n",
      "<input type=text name=\"T_SMAM\" placeholder=\"T_SMAM\" required='required'>\n",
      "<br>\n",
      "<label for=\"T_PSM\"> ■ 간접 흡연 경험이 있습니까?   □1 아니오   □2 예 :  </label>\n",
      "<br>\n",
      "<select id=\"T_PSM\" name=\"T_PSM\" placeholder=\"T_PSM\", required='required'>\n",
      "<option value=\"1\">1</option>\n",
      "<option value=\"2\">2</option>\n",
      "</select>\n",
      "<br>\n",
      "<label for=\"T_EXER\"> ■ 몸에 땀이 날 정도의 운동을 규칙적으로 하십니까?   □₁아니오   □₂예 :  </label>\n",
      "<br>\n",
      "<select id=\"T_EXER\" name=\"T_EXER\" placeholder=\"T_EXER\", required='required'>\n",
      "<option value=\"1\">1</option>\n",
      "<option value=\"2\">2</option>\n",
      "</select>\n",
      "<br>\n"
     ]
    }
   ],
   "source": [
    "for col in q34[\"varname\"].to_list():\n",
    "    \n",
    "    if col in cont_list:    \n",
    "        print(\"<label for=\\\"\"+col+\"\\\">\",q34[q34[\"varname\"]==col][\"Q\"].values[0], \":  </label>\")\n",
    "        print(\"<br>\")\n",
    "        print(f\"<input type=text name=\\\"{col}\\\" placeholder=\\\"{col}\\\" required='required'>\")\n",
    "        print(\"<br>\")\n",
    "    elif col in normial_list+ordial_list:\n",
    "        print(\"<label for=\\\"\"+col+\"\\\">\",q34[q34[\"varname\"]==col][\"Q\"].values[0], \":  </label>\")\n",
    "        print(\"<br>\")\n",
    "        print(f\"<select id=\\\"{col}\\\" name=\\\"{col}\\\" placeholder=\\\"{col}\\\", required='required'>\")\n",
    "        for i in range(1,len(df_imputed[col].value_counts())):\n",
    "            print(f\"<option value=\\\"{i}\\\">{i}</option>\")\n",
    "        print(\"</select>\")\n",
    "        print(\"<br>\")"
   ]
  },
  {
   "cell_type": "code",
   "execution_count": 42,
   "id": "698d9c54",
   "metadata": {
    "ExecuteTime": {
     "end_time": "2021-12-20T12:45:41.732554Z",
     "start_time": "2021-12-20T12:45:41.715694Z"
    }
   },
   "outputs": [
    {
     "name": "stdout",
     "output_type": "stream",
     "text": [
      "\"T_ID\",\"T_SEX\",\"T_AGE\",\"T_INCOME\",\"T_MARRY\",\"T_HTN\",\"T_HTNAG\",\"T_DM\",\"T_DMAG\",\"T_LIP\",\"T_LIPAG\",\"T_FMFHT1\",\"T_FMFHT2\",\"T_FMFDM1\",\"T_FMFDM2\",\"T_DRINK\",\"T_DRDU\",\"T_TAKFQ\",\"T_TAKAM\",\"T_RICEFQ\",\"T_RICEAM\",\"T_WINEFQ\",\"T_WINEAM\",\"T_SOJUFQ\",\"T_SOJUAM\",\"T_BEERFQ\",\"T_BEERAM\",\"T_HLIQFQ\",\"T_HLIQAM\",\"T_SMOKE\",\"T_SMDUYR\",\"T_SMDUMO\",\"T_SMAM\",\"T_PSM\",\"T_EXER\","
     ]
    }
   ],
   "source": [
    "for col in q34[\"varname\"].to_list():\n",
    "    print(f'\"{col}\"',end=\",\")"
   ]
  },
  {
   "cell_type": "code",
   "execution_count": null,
   "id": "eb84106f",
   "metadata": {},
   "outputs": [],
   "source": [
    "for col in q34[\"varname\"].to_list():\n",
    "    print(\"<br>\")\n",
    "    print(\"<label for=\\\"\"+col+\"\\\">\",q34[q34[\"varname\"]==col][\"Q\"].values[0], \":  </label>\")\n",
    "    print(\"<br>\")\n",
    "    print(f\"<input type=text name=\\\"{col}\\\" placeholder=\\\"{col}\\\" required='required'>\")\n",
    "    print(\"<br>\")\n",
    "    print(\"<br>\")"
   ]
  },
  {
   "cell_type": "code",
   "execution_count": 1,
   "id": "714782f1",
   "metadata": {
    "ExecuteTime": {
     "end_time": "2021-12-21T17:00:15.698877Z",
     "start_time": "2021-12-21T17:00:15.688832Z"
    }
   },
   "outputs": [],
   "source": [
    " AM_cols = ['T_TAKAM', 'T_RICEAM', 'T_WINEAM', 'T_SOJUAM', 'T_BEERAM', 'T_HLIQAM']"
   ]
  },
  {
   "cell_type": "code",
   "execution_count": 10,
   "id": "1b3fcdc0",
   "metadata": {
    "ExecuteTime": {
     "end_time": "2021-12-21T17:03:25.471437Z",
     "start_time": "2021-12-21T17:03:25.463430Z"
    }
   },
   "outputs": [],
   "source": [
    "col_names = ['T_AGE', 'T_INCOME', 'T_MARRY', 'T_HEIGHT', 'T_WEIGHT', 'T_BMI', 'T_DRINK', 'T_DRDU', 'T_TAKFQ', 'T_TAKAM', 'T_RICEFQ',\n",
    "       'T_RICEAM', 'T_WINEFQ', 'T_WINEAM', 'T_SOJUFQ', 'T_SOJUAM', 'T_BEERFQ',\n",
    "       'T_BEERAM', 'T_HLIQFQ', 'T_HLIQAM', 'T_SMOKE', 'T_SMDUYR', 'T_SMDUMO',\n",
    "       'T_SMAM', 'T_PSM', 'T_EXER']"
   ]
  },
  {
   "cell_type": "code",
   "execution_count": 9,
   "id": "f5ebe0a2",
   "metadata": {
    "ExecuteTime": {
     "end_time": "2021-12-21T17:03:09.640871Z",
     "start_time": "2021-12-21T17:03:09.633865Z"
    }
   },
   "outputs": [
    {
     "data": {
      "text/plain": [
       "28"
      ]
     },
     "execution_count": 9,
     "metadata": {},
     "output_type": "execute_result"
    }
   ],
   "source": [
    "len(col_names)"
   ]
  },
  {
   "cell_type": "code",
   "execution_count": null,
   "id": "580d0409",
   "metadata": {},
   "outputs": [],
   "source": []
  }
 ],
 "metadata": {
  "hide_input": false,
  "kernelspec": {
   "display_name": "Python 3 (ipykernel)",
   "language": "python",
   "name": "python3"
  },
  "language_info": {
   "codemirror_mode": {
    "name": "ipython",
    "version": 3
   },
   "file_extension": ".py",
   "mimetype": "text/x-python",
   "name": "python",
   "nbconvert_exporter": "python",
   "pygments_lexer": "ipython3",
   "version": "3.9.7"
  },
  "toc": {
   "base_numbering": 1,
   "nav_menu": {},
   "number_sections": true,
   "sideBar": true,
   "skip_h1_title": false,
   "title_cell": "Table of Contents",
   "title_sidebar": "Contents",
   "toc_cell": false,
   "toc_position": {},
   "toc_section_display": true,
   "toc_window_display": true
  },
  "varInspector": {
   "cols": {
    "lenName": 16,
    "lenType": 16,
    "lenVar": 40
   },
   "kernels_config": {
    "python": {
     "delete_cmd_postfix": "",
     "delete_cmd_prefix": "del ",
     "library": "var_list.py",
     "varRefreshCmd": "print(var_dic_list())"
    },
    "r": {
     "delete_cmd_postfix": ") ",
     "delete_cmd_prefix": "rm(",
     "library": "var_list.r",
     "varRefreshCmd": "cat(var_dic_list()) "
    }
   },
   "types_to_exclude": [
    "module",
    "function",
    "builtin_function_or_method",
    "instance",
    "_Feature"
   ],
   "window_display": false
  }
 },
 "nbformat": 4,
 "nbformat_minor": 5
}
